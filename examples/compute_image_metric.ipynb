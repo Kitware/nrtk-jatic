{
 "cells": [
  {
   "cell_type": "markdown",
   "metadata": {},
   "source": [
    "### Compute Metric Example Workflow\n",
    "\n",
    "In this notebook we showcase how a fictional T&E engineer, Jack, could utilize NRTK and the ImageMetric interface in a workflow.\n",
    "\n",
    "Jack has identified that the quality of images his model will be receiving is likely to degrade due to a variety of natural pertubations beyond what was initially expected. He wants to use NRTK to explore the direct relationship between image quality and model performance."
   ]
  },
  {
   "cell_type": "code",
   "execution_count": 1,
   "metadata": {},
   "outputs": [
    {
     "name": "stderr",
     "output_type": "stream",
     "text": [
      "/home/local/KHQ/alexander.lynch/anaconda3/envs/nrtk-jatic/lib/python3.10/site-packages/tqdm/auto.py:21: TqdmWarning: IProgress not found. Please update jupyter and ipywidgets. See https://ipywidgets.readthedocs.io/en/stable/user_install.html\n",
      "  from .autonotebook import tqdm as notebook_tqdm\n"
     ]
    }
   ],
   "source": [
    "%matplotlib inline\n",
    "%config InlineBackend.figure_format = \"jpeg\"  # Use JPEG format for inline visualizations\n",
    "from matplotlib import pyplot as plt  # type: ignore\n",
    "\n",
    "import numpy as np\n",
    "from pathlib import Path\n",
    "from typing import Iterable, Hashable, Tuple, Dict, Any, Callable\n",
    "\n",
    "from dataclasses import dataclass\n",
    "import torch\n",
    "from transformers import AutoModelForObjectDetection  # type: ignore\n",
    "from transformers import AutoImageProcessor  # type: ignore\n",
    "from torchvision.transforms.functional import get_image_size  # type: ignore\n",
    "from torchmetrics.detection.mean_ap import MeanAveragePrecision\n",
    "\n",
    "from maite.protocols import ArrayLike\n",
    "from maite.protocols.object_detection import ObjectDetectionTarget\n",
    "import maite.protocols.object_detection as od\n",
    "from maite.workflows import evaluate\n",
    "\n",
    "from smqtk_image_io.bbox import AxisAlignedBoundingBox\n",
    "from smqtk_detection.impls.detect_image_objects.resnet_frcnn import ResNetFRCNN\n",
    "\n",
    "from nrtk.impls.image_metric.snr_image_metric import SNRImageMetric\n",
    "from nrtk.impls.score_detections.class_agnostic_pixelwise_iou_scorer import ClassAgnosticPixelwiseIoUScorer\n",
    "from nrtk.impls.perturb_image.generic.skimage.random_noise import PepperNoisePerturber\n",
    "from nrtk.impls.perturb_image.generic.cv2.blur import GaussianBlurPerturber\n",
    "from nrtk.impls.perturb_image.generic.PIL.enhance import BrightnessPerturber\n",
    "\n",
    "from nrtk_jatic.interop.object_detection.augmentation import JATICDetectionAugmentation, JATICDetectionAugmentationWithMetric\n",
    "from nrtk_jatic.interop.object_detection.dataset import JATICObjectDetectionDataset\n",
    "from models.datasets import VisDroneDataset"
   ]
  },
  {
   "cell_type": "code",
   "execution_count": 2,
   "metadata": {},
   "outputs": [],
   "source": [
    "tm_metric = MeanAveragePrecision(\n",
    "    box_format=\"xyxy\",\n",
    "    iou_type=\"bbox\",\n",
    "    iou_thresholds=[0.5],\n",
    "    rec_thresholds=[0.0, 0.1, 0.2, 0.3, 0.4, 0.5, 0.6, 0.7, 0.8, 0.9, 1.0],\n",
    "    max_detection_thresholds=[1, 10, 100],\n",
    "    class_metrics=False,\n",
    "    extended_summary=False,\n",
    "    average=\"macro\"\n",
    ")\n",
    "\n",
    "class WrappedTorchmetricsMetric:\n",
    "    def __init__(\n",
    "        self,\n",
    "        tm_metric: Callable[\n",
    "            [list[dict[str, torch.Tensor]], list[dict[str, torch.Tensor]]], dict[str, Any]]\n",
    "    ):\n",
    "        self._tm_metric = tm_metric\n",
    "\n",
    "    # Create utility function to convert ObjectDetectionTarget_impl type to what\n",
    "    # the type expected by torchmetrics IntersectionOverUnion metric\n",
    "    @staticmethod\n",
    "    def to_tensor_dict(target: od.ObjectDetectionTarget) -> dict[str, torch.Tensor]:\n",
    "        \"\"\"\n",
    "        Convert an ObjectDetectionTarget_impl into a dictionary expected internally by\n",
    "        raw `update` method of raw torchmetrics method\n",
    "        \"\"\"\n",
    "        out = {\n",
    "            \"boxes\": torch.as_tensor(target.boxes),\n",
    "            \"scores\": torch.as_tensor(target.scores),\n",
    "            \"labels\": torch.as_tensor(target.labels),\n",
    "        }\n",
    "\n",
    "        return out\n",
    "\n",
    "    def update(self, preds: od.TargetBatchType, targets: od.TargetBatchType) -> None:\n",
    "        # Convert to natively-typed from of preds/targets\n",
    "        preds_tm = [self.to_tensor_dict(pred) for pred in preds]\n",
    "        targets_tm = [self.to_tensor_dict(tgt) for tgt in targets]\n",
    "        self._tm_metric.update(preds_tm, targets_tm)\n",
    "\n",
    "    def compute(self) -> dict[str, Any]:\n",
    "        return self._tm_metric.compute()\n",
    "\n",
    "    def reset(self) -> None:\n",
    "        self._tm_metric.reset()\n",
    "\n",
    "mAP_metric: od.Metric = WrappedTorchmetricsMetric(tm_metric)"
   ]
  },
  {
   "cell_type": "code",
   "execution_count": 3,
   "metadata": {},
   "outputs": [],
   "source": [
    "@dataclass\n",
    "class ObjectDetectionData:\n",
    "    boxes: ArrayLike\n",
    "    labels: ArrayLike\n",
    "    scores: ArrayLike\n",
    "    def __iter__(self):\n",
    "        self.n = 0\n",
    "        return self\n",
    "\n",
    "    def __next__(self):\n",
    "        if self.n < len(self.boxes):\n",
    "            self.n += 1\n",
    "            return self.boxes[self.n-1], self.labels[self.n-1], self.scores[self.n-1]\n",
    "        else:\n",
    "            raise StopIteration\n",
    "\n",
    "def dets_to_maite(dets: Iterable[Tuple[AxisAlignedBoundingBox, Dict[Hashable, float]]],\n",
    "                  thresh: float = 0.4) -> ObjectDetectionTarget:\n",
    "    boxes = []\n",
    "    labels = []\n",
    "\n",
    "    for box, probs in dets:\n",
    "        box_out = box.min_vertex.tolist()\n",
    "        box_out.extend(box.max_vertex.tolist())\n",
    "\n",
    "        # Just keep the highest scored prediction\n",
    "        cls_name = max(probs, key=lambda key: probs[key])\n",
    "        if probs[cls_name] > thresh:\n",
    "            cls_idx = list(probs.keys()).index(cls_name)\n",
    "\n",
    "            boxes.append(box_out)\n",
    "            labels.append(cls_idx)\n",
    "\n",
    "    return ObjectDetectionData(\n",
    "        boxes=np.asarray(boxes, dtype=float),\n",
    "        labels=np.asarray(labels, dtype=int),\n",
    "        scores=np.asarray([1] * len(labels), dtype=int)\n",
    "    )\n",
    "\n",
    "DEMO_ROOT = Path.cwd().parent\n",
    "basic_dataset = VisDroneDataset(DEMO_ROOT / \"examples/data\" / \"VisDrone2019-DET-test-dev-TINY\")\n",
    "img_quality_metric = SNRImageMetric()"
   ]
  },
  {
   "cell_type": "code",
   "execution_count": 4,
   "metadata": {},
   "outputs": [
    {
     "name": "stderr",
     "output_type": "stream",
     "text": [
      "Some weights of the model checkpoint at facebook/detr-resnet-50 were not used when initializing DetrForObjectDetection: ['model.backbone.conv_encoder.model.layer1.0.downsample.1.num_batches_tracked', 'model.backbone.conv_encoder.model.layer2.0.downsample.1.num_batches_tracked', 'model.backbone.conv_encoder.model.layer3.0.downsample.1.num_batches_tracked', 'model.backbone.conv_encoder.model.layer4.0.downsample.1.num_batches_tracked']\n",
      "- This IS expected if you are initializing DetrForObjectDetection from the checkpoint of a model trained on another task or with another architecture (e.g. initializing a BertForSequenceClassification model from a BertForPreTraining model).\n",
      "- This IS NOT expected if you are initializing DetrForObjectDetection from the checkpoint of a model that you expect to be exactly identical (initializing a BertForSequenceClassification model from a BertForSequenceClassification model).\n"
     ]
    }
   ],
   "source": [
    "class HuggingFaceDetector:\n",
    "    def __init__(self, model_name: str, threshold: float, device: str):\n",
    "        self.image_processor = AutoImageProcessor.from_pretrained(model_name)\n",
    "        self.model = AutoModelForObjectDetection.from_pretrained(model_name)\n",
    "        self.threshold = threshold\n",
    "        self.device = device\n",
    "\n",
    "        self.model.eval()\n",
    "        self.model.to(device)\n",
    "\n",
    "    def id2label(self) -> Dict[int, Hashable]:\n",
    "        return self.model.config.id2label\n",
    "\n",
    "    def __call__(self, batch: od.InputBatchType) -> od.TargetBatchType:\n",
    "        # tensor bridging\n",
    "        input = torch.as_tensor(batch)\n",
    "        assert input.ndim == 4\n",
    "\n",
    "        # save original image sizes for resizing boxes\n",
    "        target_sizes = [get_image_size(img)[::-1] for img in input]\n",
    "\n",
    "        # preprocess\n",
    "        hf_inputs = self.image_processor(input, return_tensors=\"pt\")\n",
    "\n",
    "        # put on device\n",
    "        hf_inputs = hf_inputs.to(self.device)\n",
    "\n",
    "        # get predictions\n",
    "        with torch.no_grad():\n",
    "            hf_predictions = self.model(**hf_inputs)\n",
    "        hf_results = self.image_processor.post_process_object_detection(\n",
    "            hf_predictions, \n",
    "            threshold=self.threshold, \n",
    "            target_sizes=target_sizes\n",
    "        )\n",
    "\n",
    "        predictions: od.TargetBatchType = list()\n",
    "        for result in hf_results:\n",
    "            predictions.append(\n",
    "                ObjectDetectionData(\n",
    "                    result[\"boxes\"].detach().cpu(),\n",
    "                    result[\"labels\"].detach().cpu(),\n",
    "                    result[\"scores\"].detach().cpu()\n",
    "                )\n",
    "            )\n",
    "\n",
    "        return predictions\n",
    "\n",
    "model_name = \"facebook/detr-resnet-50\"\n",
    "jatic_detector: od.Model = HuggingFaceDetector(\n",
    "    model_name=model_name,\n",
    "    threshold=0.5,\n",
    "    device='cuda' if torch.cuda.is_available() else 'cpu'\n",
    ")"
   ]
  },
  {
   "cell_type": "markdown",
   "metadata": {},
   "source": [
    "Jack wants to test a variety of pertubations on his maite compliant dataset."
   ]
  },
  {
   "cell_type": "markdown",
   "metadata": {},
   "source": [
    "After setting up NRTK generators for each perturber he will run the generators to get the model performance and compute the image quality metric to compare the performance against"
   ]
  },
  {
   "cell_type": "code",
   "execution_count": 6,
   "metadata": {},
   "outputs": [
    {
     "ename": "KeyboardInterrupt",
     "evalue": "",
     "output_type": "error",
     "traceback": [
      "\u001b[0;31m---------------------------------------------------------------------------\u001b[0m",
      "\u001b[0;31mKeyboardInterrupt\u001b[0m                         Traceback (most recent call last)",
      "Cell \u001b[0;32mIn[6], line 21\u001b[0m\n\u001b[1;32m     19\u001b[0m avg_quality \u001b[39m=\u001b[39m \u001b[39m0\u001b[39m\n\u001b[1;32m     20\u001b[0m \u001b[39mfor\u001b[39;00m batch \u001b[39min\u001b[39;00m basic_dataset:\n\u001b[0;32m---> 21\u001b[0m     aug_img, _, _ \u001b[39m=\u001b[39m augmentation([[component] \u001b[39mfor\u001b[39;49;00m component \u001b[39min\u001b[39;49;00m batch] )\n\u001b[1;32m     22\u001b[0m     aug_img \u001b[39m=\u001b[39m np\u001b[39m.\u001b[39mtranspose(aug_img[\u001b[39m0\u001b[39m], (\u001b[39m1\u001b[39m,\u001b[39m2\u001b[39m,\u001b[39m0\u001b[39m))\n\u001b[1;32m     23\u001b[0m     avg_quality \u001b[39m+\u001b[39m\u001b[39m=\u001b[39m img_quality_metric\u001b[39m.\u001b[39mcompute(aug_img)\n",
      "File \u001b[0;32m~/Projects/CDAO/nrtk-jatic/src/nrtk_jatic/interop/object_detection/augmentation.py:47\u001b[0m, in \u001b[0;36mJATICDetectionAugmentation.__call__\u001b[0;34m(self, batch)\u001b[0m\n\u001b[1;32m     45\u001b[0m aug_img \u001b[39m=\u001b[39m copy\u001b[39m.\u001b[39mdeepcopy(img)\n\u001b[1;32m     46\u001b[0m height, width \u001b[39m=\u001b[39m aug_img\u001b[39m.\u001b[39mshape[\u001b[39m0\u001b[39m:\u001b[39m2\u001b[39m]  \u001b[39m# type: ignore\u001b[39;00m\n\u001b[0;32m---> 47\u001b[0m aug_img \u001b[39m=\u001b[39m \u001b[39mself\u001b[39;49m\u001b[39m.\u001b[39;49maugment(np\u001b[39m.\u001b[39;49masarray(aug_img), md)\n\u001b[1;32m     48\u001b[0m aug_height, aug_width \u001b[39m=\u001b[39m aug_img\u001b[39m.\u001b[39mshape[\u001b[39m0\u001b[39m:\u001b[39m2\u001b[39m]\n\u001b[1;32m     49\u001b[0m aug_imgs\u001b[39m.\u001b[39mappend(aug_img)\n",
      "File \u001b[0;32m~/Projects/CDAO/nrtk/src/nrtk/interfaces/perturb_image.py:36\u001b[0m, in \u001b[0;36mPerturbImage.__call__\u001b[0;34m(self, image, additional_params)\u001b[0m\n\u001b[1;32m     34\u001b[0m \u001b[39mif\u001b[39;00m additional_params \u001b[39mis\u001b[39;00m \u001b[39mNone\u001b[39;00m:\n\u001b[1;32m     35\u001b[0m     additional_params \u001b[39m=\u001b[39m \u001b[39mdict\u001b[39m()\n\u001b[0;32m---> 36\u001b[0m \u001b[39mreturn\u001b[39;00m \u001b[39mself\u001b[39;49m\u001b[39m.\u001b[39;49mperturb(image, additional_params)\n",
      "File \u001b[0;32m~/Projects/CDAO/nrtk/src/nrtk/impls/perturb_image/generic/skimage/random_noise.py:99\u001b[0m, in \u001b[0;36mPepperNoisePerturber.perturb\u001b[0;34m(self, image, additional_params)\u001b[0m\n\u001b[1;32m     97\u001b[0m \u001b[39mif\u001b[39;00m additional_params \u001b[39mis\u001b[39;00m \u001b[39mNone\u001b[39;00m:\n\u001b[1;32m     98\u001b[0m     additional_params \u001b[39m=\u001b[39m \u001b[39mdict\u001b[39m()\n\u001b[0;32m---> 99\u001b[0m \u001b[39mreturn\u001b[39;00m \u001b[39mself\u001b[39;49m\u001b[39m.\u001b[39;49m_perturb(image, mode\u001b[39m=\u001b[39;49m\u001b[39m\"\u001b[39;49m\u001b[39mpepper\u001b[39;49m\u001b[39m\"\u001b[39;49m, amount\u001b[39m=\u001b[39;49m\u001b[39mself\u001b[39;49m\u001b[39m.\u001b[39;49mamount)\n",
      "File \u001b[0;32m~/Projects/CDAO/nrtk/src/nrtk/impls/perturb_image/generic/skimage/random_noise.py:42\u001b[0m, in \u001b[0;36m_SKImageNoisePerturber._perturb\u001b[0;34m(self, image, **kwargs)\u001b[0m\n\u001b[1;32m     39\u001b[0m     convert \u001b[39m=\u001b[39m convert_image[dtype_str]\n\u001b[1;32m     41\u001b[0m \u001b[39m# Apply perturbation\u001b[39;00m\n\u001b[0;32m---> 42\u001b[0m image_noise \u001b[39m=\u001b[39m skimage\u001b[39m.\u001b[39;49mutil\u001b[39m.\u001b[39;49mrandom_noise(image, rng\u001b[39m=\u001b[39;49m\u001b[39mself\u001b[39;49m\u001b[39m.\u001b[39;49mrng, \u001b[39m*\u001b[39;49m\u001b[39m*\u001b[39;49mkwargs)\n\u001b[1;32m     44\u001b[0m \u001b[39m# Convert image back to original dtype\u001b[39;00m\n\u001b[1;32m     45\u001b[0m \u001b[39mreturn\u001b[39;00m convert(image_noise)\u001b[39m.\u001b[39mastype(image\u001b[39m.\u001b[39mdtype)\n",
      "File \u001b[0;32m~/anaconda3/envs/nrtk-jatic/lib/python3.10/site-packages/skimage/_shared/utils.py:270\u001b[0m, in \u001b[0;36mdeprecate_kwarg.__call__.<locals>.fixed_func\u001b[0;34m(*args, **kwargs)\u001b[0m\n\u001b[1;32m    267\u001b[0m         kwargs[new_arg] \u001b[39m=\u001b[39m kwargs\u001b[39m.\u001b[39mpop(old_arg)\n\u001b[1;32m    269\u001b[0m \u001b[39m# Call the function with the fixed arguments\u001b[39;00m\n\u001b[0;32m--> 270\u001b[0m \u001b[39mreturn\u001b[39;00m func(\u001b[39m*\u001b[39;49margs, \u001b[39m*\u001b[39;49m\u001b[39m*\u001b[39;49mkwargs)\n",
      "File \u001b[0;32m~/anaconda3/envs/nrtk-jatic/lib/python3.10/site-packages/skimage/util/noise.py:210\u001b[0m, in \u001b[0;36mrandom_noise\u001b[0;34m(image, mode, rng, clip, **kwargs)\u001b[0m\n\u001b[1;32m    205\u001b[0m     out \u001b[39m=\u001b[39m random_noise(image, mode\u001b[39m=\u001b[39m\u001b[39m'\u001b[39m\u001b[39ms&p\u001b[39m\u001b[39m'\u001b[39m, rng\u001b[39m=\u001b[39mrng,\n\u001b[1;32m    206\u001b[0m                        amount\u001b[39m=\u001b[39mkwargs[\u001b[39m'\u001b[39m\u001b[39mamount\u001b[39m\u001b[39m'\u001b[39m], salt_vs_pepper\u001b[39m=\u001b[39m\u001b[39m1.\u001b[39m)\n\u001b[1;32m    208\u001b[0m \u001b[39melif\u001b[39;00m mode \u001b[39m==\u001b[39m \u001b[39m'\u001b[39m\u001b[39mpepper\u001b[39m\u001b[39m'\u001b[39m:\n\u001b[1;32m    209\u001b[0m     \u001b[39m# Re-call function with mode='s&p' and p=1 (all pepper noise)\u001b[39;00m\n\u001b[0;32m--> 210\u001b[0m     out \u001b[39m=\u001b[39m random_noise(image, mode\u001b[39m=\u001b[39;49m\u001b[39m'\u001b[39;49m\u001b[39ms&p\u001b[39;49m\u001b[39m'\u001b[39;49m, rng\u001b[39m=\u001b[39;49mrng,\n\u001b[1;32m    211\u001b[0m                        amount\u001b[39m=\u001b[39;49mkwargs[\u001b[39m'\u001b[39;49m\u001b[39mamount\u001b[39;49m\u001b[39m'\u001b[39;49m], salt_vs_pepper\u001b[39m=\u001b[39;49m\u001b[39m0.\u001b[39;49m)\n\u001b[1;32m    213\u001b[0m \u001b[39melif\u001b[39;00m mode \u001b[39m==\u001b[39m \u001b[39m'\u001b[39m\u001b[39ms&p\u001b[39m\u001b[39m'\u001b[39m:\n\u001b[1;32m    214\u001b[0m     out \u001b[39m=\u001b[39m image\u001b[39m.\u001b[39mcopy()\n",
      "File \u001b[0;32m~/anaconda3/envs/nrtk-jatic/lib/python3.10/site-packages/skimage/_shared/utils.py:270\u001b[0m, in \u001b[0;36mdeprecate_kwarg.__call__.<locals>.fixed_func\u001b[0;34m(*args, **kwargs)\u001b[0m\n\u001b[1;32m    267\u001b[0m         kwargs[new_arg] \u001b[39m=\u001b[39m kwargs\u001b[39m.\u001b[39mpop(old_arg)\n\u001b[1;32m    269\u001b[0m \u001b[39m# Call the function with the fixed arguments\u001b[39;00m\n\u001b[0;32m--> 270\u001b[0m \u001b[39mreturn\u001b[39;00m func(\u001b[39m*\u001b[39;49margs, \u001b[39m*\u001b[39;49m\u001b[39m*\u001b[39;49mkwargs)\n",
      "File \u001b[0;32m~/anaconda3/envs/nrtk-jatic/lib/python3.10/site-packages/skimage/util/noise.py:214\u001b[0m, in \u001b[0;36mrandom_noise\u001b[0;34m(image, mode, rng, clip, **kwargs)\u001b[0m\n\u001b[1;32m    210\u001b[0m     out \u001b[39m=\u001b[39m random_noise(image, mode\u001b[39m=\u001b[39m\u001b[39m'\u001b[39m\u001b[39ms&p\u001b[39m\u001b[39m'\u001b[39m, rng\u001b[39m=\u001b[39mrng,\n\u001b[1;32m    211\u001b[0m                        amount\u001b[39m=\u001b[39mkwargs[\u001b[39m'\u001b[39m\u001b[39mamount\u001b[39m\u001b[39m'\u001b[39m], salt_vs_pepper\u001b[39m=\u001b[39m\u001b[39m0.\u001b[39m)\n\u001b[1;32m    213\u001b[0m \u001b[39melif\u001b[39;00m mode \u001b[39m==\u001b[39m \u001b[39m'\u001b[39m\u001b[39ms&p\u001b[39m\u001b[39m'\u001b[39m:\n\u001b[0;32m--> 214\u001b[0m     out \u001b[39m=\u001b[39m image\u001b[39m.\u001b[39;49mcopy()\n\u001b[1;32m    215\u001b[0m     p \u001b[39m=\u001b[39m kwargs[\u001b[39m'\u001b[39m\u001b[39mamount\u001b[39m\u001b[39m'\u001b[39m]\n\u001b[1;32m    216\u001b[0m     q \u001b[39m=\u001b[39m kwargs[\u001b[39m'\u001b[39m\u001b[39msalt_vs_pepper\u001b[39m\u001b[39m'\u001b[39m]\n",
      "\u001b[0;31mKeyboardInterrupt\u001b[0m: "
     ]
    }
   ],
   "source": [
    "import torch  # type: ignore\n",
    "import random\n",
    "\n",
    "random.seed(42)\n",
    "np.random.seed(42)\n",
    "torch.manual_seed(42)\n",
    "\n",
    "img_quality_metrics = []\n",
    "performance = []\n",
    "for amount in [i*0.05 for i in range(15)]:\n",
    "    perturber = PepperNoisePerturber(amount=amount)\n",
    "    augmentation = JATICDetectionAugmentation(perturber)\n",
    "    results, _, _ = evaluate(model=jatic_detector,\n",
    "                          metric=mAP_metric,\n",
    "                          dataset=basic_dataset,\n",
    "                          augmentation=augmentation\n",
    "                          )\n",
    "    performance.append(results['map'])\n",
    "    avg_quality = 0\n",
    "    for batch in basic_dataset:\n",
    "        aug_img, _, _ = augmentation([[component] for component in batch] )\n",
    "        aug_img = np.transpose(aug_img[0], (1,2,0))\n",
    "        avg_quality += img_quality_metric.compute(aug_img)\n",
    "    img_quality_metrics.append(avg_quality/len(basic_dataset))\n",
    "\n",
    "\n",
    "plt.cla()\n",
    "plt.plot(img_quality_metrics, performance)\n",
    "plt.title('Performance vs Image Quality metric as Gaussian Blur is applied')\n",
    "plt.xlabel('Signal to Noise Ratio')\n",
    "plt.ylabel('mean ClassAgnosticPixelwiseIoU')"
   ]
  },
  {
   "cell_type": "code",
   "execution_count": 11,
   "metadata": {},
   "outputs": [
    {
     "name": "stdout",
     "output_type": "stream",
     "text": [
      "(3, 765, 1360)\n",
      "(3, 765, 1360)\n",
      "(3, 765, 1360)\n",
      "(3, 765, 1360)\n",
      "(3, 765, 1360)\n",
      "(3, 765, 1360)\n",
      "(3, 765, 1360)\n",
      "(3, 765, 1360)\n",
      "(3, 765, 1360)\n",
      "(3, 765, 1360)\n",
      "(3, 540, 960)\n"
     ]
    },
    {
     "ename": "NameError",
     "evalue": "name 'img_quality_metrics' is not defined",
     "output_type": "error",
     "traceback": [
      "\u001b[0;31m---------------------------------------------------------------------------\u001b[0m",
      "\u001b[0;31mNameError\u001b[0m                                 Traceback (most recent call last)",
      "Cell \u001b[0;32mIn[11], line 11\u001b[0m\n\u001b[1;32m      8\u001b[0m     aug_img \u001b[39m=\u001b[39m np\u001b[39m.\u001b[39mtranspose(aug_img[\u001b[39m0\u001b[39m], (\u001b[39m1\u001b[39m,\u001b[39m2\u001b[39m,\u001b[39m0\u001b[39m))\n\u001b[1;32m      9\u001b[0m     avg_quality \u001b[39m+\u001b[39m\u001b[39m=\u001b[39m img_quality_metric\u001b[39m.\u001b[39mcompute(aug_img)\n\u001b[0;32m---> 11\u001b[0m img_quality_metrics\u001b[39m.\u001b[39mappend(avg_quality\u001b[39m/\u001b[39m\u001b[39mlen\u001b[39m(basic_dataset))\n",
      "\u001b[0;31mNameError\u001b[0m: name 'img_quality_metrics' is not defined"
     ]
    }
   ],
   "source": [
    "perturber = GaussianBlurPerturber(ksize=1)\n",
    "\n",
    "augmentation = JATICDetectionAugmentation(perturber)\n",
    "avg_quality = 0\n",
    "for batch in basic_dataset:\n",
    "    aug_img, _, _ = augmentation([[component] for component in batch] )\n",
    "    print(aug_img[0].shape)\n",
    "    aug_img = np.transpose(aug_img[0], (1,2,0))\n",
    "    avg_quality += img_quality_metric.compute(aug_img)\n",
    "\n",
    "img_quality_metrics.append(avg_quality/len(basic_dataset))"
   ]
  },
  {
   "cell_type": "code",
   "execution_count": 6,
   "metadata": {},
   "outputs": [
    {
     "name": "stderr",
     "output_type": "stream",
     "text": [
      "100%|██████████| 15/15 [00:58<00:00,  3.93s/it]\n"
     ]
    },
    {
     "data": {
      "text/plain": [
       "Text(0, 0.5, 'mean ClassAgnosticPixelwiseIoU')"
      ]
     },
     "execution_count": 6,
     "metadata": {},
     "output_type": "execute_result"
    },
    {
     "data": {
      "image/jpeg": "[encoded data removed]",
      "text/plain": [
       "<Figure size 640x480 with 1 Axes>"
      ]
     },
     "metadata": {},
     "output_type": "display_data"
    }
   ],
   "source": [
    "curve, full = generator(\n",
    "                blackbox_perturber_factories=[noise_perturber_factory],\n",
    "                blackbox_detector=detector,\n",
    "                blackbox_scorer=scorer,\n",
    "                img_batch_size=img_batch_size,\n",
    "                verbose=True\n",
    "            )\n",
    "img_quality_metrics = []\n",
    "for amount in [i*0.05 for i in range(15)]:\n",
    "    perturber = PepperNoisePerturber(amount=amount)\n",
    "    augmentation = JATICDetectionAugmentation(perturber)\n",
    "    aug_imgs, aug_dets, aug_metadata = augmentation(maite_dataset[0])\n",
    "    img_quality_metrics.append(img_quality_metric.compute(aug_imgs[0]))\n",
    "\n",
    "x = [data[0]['amount'] for data in curve]\n",
    "y = [data[1] for data in curve]\n",
    "\n",
    "plt.cla()\n",
    "plt.plot(img_quality_metrics, y)\n",
    "plt.title('Performance vs Image Quality metric as Pepper Noise is applied')\n",
    "plt.xlabel('Signal to Noise Ratio')\n",
    "plt.ylabel('mean ClassAgnosticPixelwiseIoU')\n"
   ]
  },
  {
   "cell_type": "markdown",
   "metadata": {},
   "source": [
    "After analysing the performance vs image metric graphs, Jack concludes that when the image metric falls below 1.4, the model performance drops past the acceptable level. He can then advise specific monitoring of the image quality metric that is collected to identify when the model is likely to suffer in quality."
   ]
  }
 ],
 "metadata": {
  "kernelspec": {
   "display_name": "nrtk-jatic",
   "language": "python",
   "name": "python3"
  },
  "language_info": {
   "codemirror_mode": {
    "name": "ipython",
    "version": 3
   },
   "file_extension": ".py",
   "mimetype": "text/x-python",
   "name": "python",
   "nbconvert_exporter": "python",
   "pygments_lexer": "ipython3",
   "version": "3.10.0"
  }
 },
 "nbformat": 4,
 "nbformat_minor": 2
}
